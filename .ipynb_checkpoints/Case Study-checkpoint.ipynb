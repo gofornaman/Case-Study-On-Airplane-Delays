{
 "cells": [
  {
   "cell_type": "markdown",
   "metadata": {},
   "source": [
    "# Case Study: Airline on-time performance "
   ]
  },
  {
   "cell_type": "markdown",
   "metadata": {},
   "source": [
    "## Problem Definition"
   ]
  },
  {
   "cell_type": "markdown",
   "metadata": {},
   "source": [
    "Our objective is to predict weather a particular flight will get delayed or not using past data from 2007-2008"
   ]
  },
  {
   "cell_type": "markdown",
   "metadata": {},
   "source": [
    "## Hypothesis"
   ]
  },
  {
   "cell_type": "markdown",
   "metadata": {},
   "source": [
    "Inorder to solve a problem, the first thing we've to do is to define it.\n",
    "In this section, we are going to define the possible features for our problem statement. \n",
    "What makes a flight delayed or cancelled?\n",
    "1. Weather (Tornadoes, Blizzards, Hurricanes)\n",
    "2. Late arriving Aircrafts\n",
    "3. Airport Operations (Like Security Lines )\n",
    "4. Problem with Aircraft (Engine failure, faulty component and so on)\n",
    "5. Air-Traffic control\n",
    "6. Carrier Crew problems\n",
    "7. Aircraft Cleaning\n",
    "8. Baggage Loading\n",
    "9. Fuelling\n",
    "\n",
    "So these are few features that according to us, is relevant to the problem."
   ]
  },
  {
   "cell_type": "markdown",
   "metadata": {},
   "source": [
    "## Dataset"
   ]
  },
  {
   "cell_type": "markdown",
   "metadata": {},
   "source": [
    "We are using \"Airline on-time performance\" dataset provided by Stat-Computing.org \n",
    "For our purposes, we'll be using dataset from Jan 2007 - Dec 2008. \n",
    "\n",
    "More about this dataset can be found on http://stat-computing.org/dataexpo/2009/the-data.html"
   ]
  },
  {
   "cell_type": "markdown",
   "metadata": {},
   "source": [
    "## Exploratory Data Analysis"
   ]
  },
  {
   "cell_type": "markdown",
   "metadata": {},
   "source": [
    "Right now, we don't realy know much about your dataset, so lets us explore some trends. In this section, we are going to answer few of the questions asked in the problem statement."
   ]
  },
  {
   "cell_type": "markdown",
   "metadata": {},
   "source": [
    "    Q1. Which carrier performs better? "
   ]
  },
  {
   "cell_type": "markdown",
   "metadata": {},
   "source": [
    "It is safe to assume that the carrier that has least probablity to get delayed/cancelled gives the best performance. Lets gets into some stats!\n",
    "So I've crossed Unique Carriers with various kinds of Delays."
   ]
  },
  {
   "cell_type": "markdown",
   "metadata": {},
   "source": [
    "<img src=\"files/images/weather_delay.jpg\">"
   ]
  },
  {
   "cell_type": "markdown",
   "metadata": {},
   "source": [
    "Alaska Airlines, Hawaiin Airlines, Alaska Airlines & Frontier Airlines have pretty low delays due to weather.\n",
    "NOTE: Carrier code were only provided, it took a little extra labour to map all the carrier codes with Carrier names for better understanding"
   ]
  },
  {
   "cell_type": "markdown",
   "metadata": {},
   "source": [
    "<img src=\"files/images/carrier_delay.jpg\">"
   ]
  },
  {
   "cell_type": "markdown",
   "metadata": {},
   "source": [
    "<img src=\"files/images/nas_delay.jpg\">"
   ]
  },
  {
   "cell_type": "markdown",
   "metadata": {},
   "source": [
    "<img src=\"files/images/security_delay.jpg\">"
   ]
  },
  {
   "cell_type": "markdown",
   "metadata": {},
   "source": [
    "<img src=\"files/images/aircraft_arriving_late.jpg\">"
   ]
  },
  {
   "cell_type": "markdown",
   "metadata": {},
   "source": [
    "<img src=\"files/images/cancelled.jpg\">"
   ]
  },
  {
   "cell_type": "markdown",
   "metadata": {},
   "source": [
    "        So to answer Q1 - Alaskan Airlines, Hawaiian Airlines & Frontier Airlines shows better performance "
   ]
  },
  {
   "cell_type": "markdown",
   "metadata": {},
   "source": [
    "Q2. How well does weather predict plane delays?"
   ]
  },
  {
   "cell_type": "markdown",
   "metadata": {},
   "source": [
    "I dug a little deeper and compared all of these delays under one tabulation. It lead me to answer Q2."
   ]
  },
  {
   "cell_type": "markdown",
   "metadata": {},
   "source": [
    "<img src=\"images/tabulation_delays.jpg\">"
   ]
  },
  {
   "cell_type": "markdown",
   "metadata": {},
   "source": [
    "<img src=\"images/tabulation_delays2.jpg\">"
   ]
  },
  {
   "cell_type": "markdown",
   "metadata": {},
   "source": [
    "    So to answer Q2, weather only accounts to 0.16% of plane delays which is not much compared to other kinds of delays "
   ]
  },
  {
   "cell_type": "markdown",
   "metadata": {},
   "source": [
    "Q3. When is the best time of day/day of week/time of year to fly to minimise delays?  "
   ]
  },
  {
   "cell_type": "markdown",
   "metadata": {},
   "source": [
    "<img src=\"files/images/month_delay.jpg\">"
   ]
  },
  {
   "cell_type": "markdown",
   "metadata": {},
   "source": [
    "<img src=\"files/images/day_hr_delay.jpg\">"
   ]
  },
  {
   "cell_type": "markdown",
   "metadata": {},
   "source": [
    "    So, it is safe to say that delays are less when we stick to following things - \n",
    "    - Friday has the largest probability of delayed flights\n",
    "    - December, June, July have largest percentage of delayed flights\n",
    "    - Avoid flying during holidays & summer\n",
    "    - Avoid flights that depart btw 5 & 7pm\n",
    "    + Fly in april may september\n",
    "    + Fly early in the day"
   ]
  },
  {
   "cell_type": "markdown",
   "metadata": {},
   "source": [
    "Q4. Do older planes suffer more delays?"
   ]
  },
  {
   "cell_type": "markdown",
   "metadata": {},
   "source": [
    "<img src=\"files/images/age_delay.jpg\">"
   ]
  },
  {
   "cell_type": "markdown",
   "metadata": {},
   "source": [
    "    This doesnt show any trend. No, the older planes donot suffer more delay"
   ]
  },
  {
   "cell_type": "markdown",
   "metadata": {},
   "source": [
    "Q5. Can you detect cascading failures as delays in one airport create delays in others? Are there critical links in the system?"
   ]
  },
  {
   "cell_type": "markdown",
   "metadata": {},
   "source": [
    "    To predict this, would require extreme computational resources. So it is beyond the scope of this study.\n",
    "    However, we can give preference to Arrival Timings of flights since Delay in one flight at an Aiport has cascading delay on other flights."
   ]
  },
  {
   "cell_type": "markdown",
   "metadata": {},
   "source": [
    "Q6. Create a model to predict flight delays"
   ]
  },
  {
   "cell_type": "markdown",
   "metadata": {},
   "source": [
    "Using machine learning libraries, I'm going to create a model in python, that predicts whether a flight will get delayed or not. Training dataset is 70% of 2007-08 data and Testing is the remaining 30% for cross validation. Let's go."
   ]
  },
  {
   "cell_type": "markdown",
   "metadata": {},
   "source": [
    "You can take a look at \"modeling.py\" to look at the code. Since it is a huge dataset, execution will be slow on local system. We can either use Decision trees or Logistic Regression for classification. \n",
    "The architecture of the predictive model looks something like this"
   ]
  },
  {
   "cell_type": "markdown",
   "metadata": {},
   "source": [
    "<img src=\"files/images/dt.jpg\">"
   ]
  },
  {
   "cell_type": "code",
   "execution_count": null,
   "metadata": {},
   "outputs": [],
   "source": [
    "import pandas as pd \n",
    "import numpy as np \n",
    "import matplotlib.pyplot as plt \n",
    "import sklearn\n",
    "import io\n",
    "import requests\n",
    "\n",
    "# ----------------------------------\n",
    "#\tSTEP 1 - READ THE DATASET AND UNDERSTAND \n",
    "\n",
    "dataset = pd.read_csv(\"2007.csv\")\n",
    "\n",
    "print(type(dataset))\n",
    "\n",
    "#looking into head\n",
    "print(dataset.head())\n",
    "\n",
    "#no of rows, cols\n",
    "print(dataset.shape)\n",
    "\n",
    "#info bout emm data\n",
    "print(dataset.info())\n",
    "\n",
    "#figure out non NA values\n",
    "print(dataset.count())\n",
    "\n",
    "#info bout cols\n",
    "print(dataset.columns)\n",
    "\n",
    "#lets summarize the dataset\n",
    "\n",
    "#get sum\n",
    "print(dataset.sum())\n",
    "\n",
    "#get stats\n",
    "print(dataset.describe())\n",
    "\n",
    "#get mean\n",
    "print(dataset.mean())\n",
    "\n",
    "#get median\n",
    "print(dataset.median())\n",
    "\n",
    "print(\"#----------------------xx-------------------------\")\n",
    "\n",
    "\n",
    "from matplotlib import pyplot\n",
    "from sklearn.model_selection import train_test_split\n",
    "from sklearn.metrics import classification_report\n",
    "from sklearn.metrics import confusion_matrix\n",
    "from sklearn.metrics import accuracy_score\n",
    "from sklearn.model_selection import KFold\n",
    "from sklearn.model_selection import cross_val_score\n",
    "from sklearn.linear_model import LogisticRegression\n",
    "from sklearn.tree import DecisionTreeClassifier\n",
    "from sklearn.neighbors import KNeighborsClassifier\n",
    "from sklearn.ensemble import RandomForestClassifier\n",
    "from sklearn.discriminant_analysis import LinearDiscriminantAnalysis\n",
    "from sklearn.naive_bayes import GaussianNB\n",
    "from sklearn.svm import SVC\n",
    "\n",
    "\n",
    "#convert dataframe into matrix\n",
    "dataArray = dataset.values\n",
    "\n",
    "#splitting input features & o/p vars\n",
    "X = dataArray[:,1:4]\n",
    "y = dataArray[:,0:1]\n",
    "\n",
    "#splitting training & testing\n",
    "validation_size = 0.10\n",
    "seed = 9\n",
    "X_train, X_test, Y_train, Y_test = train_test_split(X,y,test_size=validation_size, random_state = seed)\n",
    "\n",
    "print(X_train.shape)\n",
    "print(X_test.shape)\n",
    "print(Y_train.shape)\n",
    "print(Y_test.shape)\n",
    "\n",
    "\n",
    "print('#----------------------xx------------------------------#')\n",
    "print('---------SEC 2 MODELING--------------')\n",
    "\n",
    "#models - LR,LDA,KNN, CART, RF, NB, SVM\n",
    "\n",
    "num_trees = 200\n",
    "max_features = 3\n",
    "models = []\n",
    "models.append(('LR', LogisticRegression()))\n",
    "models.append(('LDA', LinearDiscriminantAnalysis()))\n",
    "models.append(('KNN', KNeighborsClassifier()))\n",
    "models.append(('CART', DecisionTreeClassifier()))\n",
    "models.append(('RF', RandomForestClassifier(n_estimators=num_trees, max_features=max_features)))\n",
    "models.append(('NB', GaussianNB()))\n",
    "models.append(('SVM', SVC()))\n",
    "\n",
    "\n",
    "#fit models & eval\n",
    "\n",
    "results = []\n",
    "names = []\n",
    "scoring = 'accuracy'\n",
    "\n",
    "#bring out em cross validation\n",
    "for name, model in models:\n",
    "\tkfold = KFold(n_splits = 10, random_state=7)\n",
    "\tcv_results = cross_val_score(model, X_train, Y_train, cv=kfold, scoring = scoring)\n",
    "\tresults.append(cv_results)\n",
    "\tnames.append(name)\n",
    "\tmsg = \"%s: %f (%f)\" % (name,cv_results.mean(), cv_results.std())\n",
    "\tprint(msg)\n",
    "\n",
    "\n",
    "#lets box plot model scores\n",
    "\n",
    "fig = pyplot.figure()\n",
    "fig.suptitle('ML algo comparison')\n",
    "ax = fig.add_subplot(111)\n",
    "pyplot.boxplot(results)\n",
    "ax.set_xticklabels(names)\n",
    "pyplot.show()\n",
    "\n",
    "#create prediction model\n",
    "model = LogisticRegression()\n",
    "\n",
    "#fit model\n",
    "model.fit(X_train, Y_train)\n",
    "\n",
    "#predict!\n",
    "predictions = model.predict(X_test)\n",
    "\n",
    "#check accuracy\n",
    "print(\"Model --- LogisticRegression\")\n",
    "print(\"Accuracy: {} \".format(accuracy_score(Y_test,predictions) * 100)\n",
    "print(classification_report(Y_test, predictions))\n",
    "\n",
    "\n",
    "#plotting confusion matrix on heatmap\n",
    "\n",
    "cm = confusion_matrix(Y_test, predictions)\n",
    "sns.heatmap(cm, annot=True, xticklabels=['not_delayed','delayed'], yticklabels=['not_delayed','delayed'])\n",
    "plt.figure(figsize=(3,3))\n",
    "plt.show()\n",
    "\n",
    "#make predictions on some new data\n",
    "\n",
    "\n",
    "\n",
    "\n",
    "\n",
    "print('#--------------END------THANKS-------------#')"
   ]
  },
  {
   "cell_type": "markdown",
   "metadata": {},
   "source": [
    "So now we are done with Predictive modeling as well. Next we are going to figure out the architecture."
   ]
  },
  {
   "cell_type": "markdown",
   "metadata": {},
   "source": [
    "## Big Data Architecture"
   ]
  },
  {
   "cell_type": "markdown",
   "metadata": {},
   "source": [
    "Owing to the large dataset, it falls under the category of Big data and we must treat it differently."
   ]
  },
  {
   "cell_type": "markdown",
   "metadata": {},
   "source": [
    "<img src=\"files/images/architecture.jpg\">"
   ]
  },
  {
   "cell_type": "markdown",
   "metadata": {},
   "source": [
    "## Something about me"
   ]
  },
  {
   "cell_type": "markdown",
   "metadata": {},
   "source": [
    "I'm a Data Scientist. I like to play with data and generate predictive models. I have also worked as a Machine Learning developer helping in development of Recommendation systems, Time Series Forecasting, Marketing Analytics.\n",
    "The reason that I stayed up two nights to finish this case study is because I've come across IGT's work and am more than excited to be a part of it.\n",
    "\n",
    "What can I do for you?\n",
    "I can help you with all things machine learning & deep learning. I believe that I'll add value to the team because I'm said to have a statistical edge and creative. I'm a bachelor and willing to travel at moment's notice. \n",
    "I find this project really interesting and has kept me excited throughout the weekend.\n",
    "I hope you find this case study valuable and insightful.\n",
    "\n",
    "Thank you for your time."
   ]
  },
  {
   "cell_type": "code",
   "execution_count": null,
   "metadata": {},
   "outputs": [],
   "source": []
  }
 ],
 "metadata": {
  "kernelspec": {
   "display_name": "Python 2",
   "language": "python",
   "name": "python2"
  },
  "language_info": {
   "codemirror_mode": {
    "name": "ipython",
    "version": 2
   },
   "file_extension": ".py",
   "mimetype": "text/x-python",
   "name": "python",
   "nbconvert_exporter": "python",
   "pygments_lexer": "ipython2",
   "version": "2.7.14"
  }
 },
 "nbformat": 4,
 "nbformat_minor": 2
}
